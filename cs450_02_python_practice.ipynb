{
  "nbformat": 4,
  "nbformat_minor": 0,
  "metadata": {
    "kernelspec": {
      "display_name": "Python 3",
      "language": "python",
      "name": "python3"
    },
    "language_info": {
      "codemirror_mode": {
        "name": "ipython",
        "version": 3
      },
      "file_extension": ".py",
      "mimetype": "text/x-python",
      "name": "python",
      "nbconvert_exporter": "python",
      "pygments_lexer": "ipython3",
      "version": "3.7.1"
    },
    "colab": {
      "name": "cs450_02_python_practice.ipynb",
      "provenance": [],
      "collapsed_sections": [],
      "include_colab_link": true
    }
  },
  "cells": [
    {
      "cell_type": "markdown",
      "metadata": {
        "id": "view-in-github",
        "colab_type": "text"
      },
      "source": [
        "<a href=\"https://colab.research.google.com/github/dongchanlim/Blackjack/blob/master/cs450_02_python_practice.ipynb\" target=\"_parent\"><img src=\"https://colab.research.google.com/assets/colab-badge.svg\" alt=\"Open In Colab\"/></a>"
      ]
    },
    {
      "cell_type": "markdown",
      "metadata": {
        "id": "nzey0dTOs9BK",
        "colab_type": "text"
      },
      "source": [
        "### Please use the following variables:\n"
      ]
    },
    {
      "cell_type": "code",
      "metadata": {
        "id": "x8_7suqQs9BL",
        "colab_type": "code",
        "colab": {}
      },
      "source": [
        "import numpy as np\n",
        "\n",
        "x = np.array([3, 6])\n",
        "y = np.array([5, 2])\n",
        "data = np.array([[2, 3], [3, 4], [5, 7], [2, 7], [3, 2], [1, 2], [9, 3], [4, 1]])\n",
        "animals = [\"dog\", \"cat\", \"bird\", \"fish\", \"fish\", \"dog\", \"cat\", \"dog\"]"
      ],
      "execution_count": 0,
      "outputs": []
    },
    {
      "cell_type": "markdown",
      "metadata": {
        "id": "3che2FTZs9BQ",
        "colab_type": "text"
      },
      "source": [
        "### 1. Compute the euclidean distance between two points: `x` and `y`"
      ]
    },
    {
      "cell_type": "code",
      "metadata": {
        "id": "TUSg-Pu0s9BR",
        "colab_type": "code",
        "outputId": "169cb8ac-e5df-4229-f8be-e3532a22cb1f",
        "colab": {
          "base_uri": "https://localhost:8080/",
          "height": 34
        }
      },
      "source": [
        "np.sqrt((x[0] - y[0]) ** 2 + (x[1] - y[1]) ** 2)"
      ],
      "execution_count": 2,
      "outputs": [
        {
          "output_type": "execute_result",
          "data": {
            "text/plain": [
              "4.47213595499958"
            ]
          },
          "metadata": {
            "tags": []
          },
          "execution_count": 2
        }
      ]
    },
    {
      "cell_type": "markdown",
      "metadata": {
        "id": "nXq6IWIFs9BT",
        "colab_type": "text"
      },
      "source": [
        "### 2. Turn your code into a function that can compute the distance between any two points."
      ]
    },
    {
      "cell_type": "code",
      "metadata": {
        "id": "A44xmhwDs9BU",
        "colab_type": "code",
        "colab": {}
      },
      "source": [
        "def euc_distance(x,y):\n",
        "  return np.sqrt((x[0] - y[0]) ** 2 + (x[1] - y[1]) ** 2)"
      ],
      "execution_count": 0,
      "outputs": []
    },
    {
      "cell_type": "markdown",
      "metadata": {
        "id": "fR2IOPyCs9BW",
        "colab_type": "text"
      },
      "source": [
        "Then verify that your function works by calling it with `x` and `y`"
      ]
    },
    {
      "cell_type": "code",
      "metadata": {
        "id": "ovFXWfiDs9BX",
        "colab_type": "code",
        "outputId": "6018f386-7d97-4bc0-a2d3-310c1dbcfd72",
        "colab": {
          "base_uri": "https://localhost:8080/",
          "height": 34
        }
      },
      "source": [
        "euc_distance(x,y)"
      ],
      "execution_count": 4,
      "outputs": [
        {
          "output_type": "execute_result",
          "data": {
            "text/plain": [
              "4.47213595499958"
            ]
          },
          "metadata": {
            "tags": []
          },
          "execution_count": 4
        }
      ]
    },
    {
      "cell_type": "markdown",
      "metadata": {
        "id": "2f9P4uFDs9BZ",
        "colab_type": "text"
      },
      "source": [
        "### 3. Compute the distance between `x` and every row in the `data` array.\n",
        "\n",
        "Save each of these distances into a new list or numpy array."
      ]
    },
    {
      "cell_type": "code",
      "metadata": {
        "id": "BvkC4Y8Ds9Ba",
        "colab_type": "code",
        "outputId": "3bbcc069-c84f-4805-980a-2754ae7a6d73",
        "colab": {
          "base_uri": "https://localhost:8080/",
          "height": 238
        }
      },
      "source": [
        "data_distance = [euc_distance(x,i) for i in data]\n",
        "\n",
        "data_distance = data_distance.to_numpy()\n",
        "\n",
        "data_distance"
      ],
      "execution_count": 5,
      "outputs": [
        {
          "output_type": "error",
          "ename": "AttributeError",
          "evalue": "ignored",
          "traceback": [
            "\u001b[0;31m---------------------------------------------------------------------------\u001b[0m",
            "\u001b[0;31mAttributeError\u001b[0m                            Traceback (most recent call last)",
            "\u001b[0;32m<ipython-input-5-b6b788a5494b>\u001b[0m in \u001b[0;36m<module>\u001b[0;34m()\u001b[0m\n\u001b[1;32m      1\u001b[0m \u001b[0mdata_distance\u001b[0m \u001b[0;34m=\u001b[0m \u001b[0;34m[\u001b[0m\u001b[0meuc_distance\u001b[0m\u001b[0;34m(\u001b[0m\u001b[0mx\u001b[0m\u001b[0;34m,\u001b[0m\u001b[0mi\u001b[0m\u001b[0;34m)\u001b[0m \u001b[0;32mfor\u001b[0m \u001b[0mi\u001b[0m \u001b[0;32min\u001b[0m \u001b[0mdata\u001b[0m\u001b[0;34m]\u001b[0m\u001b[0;34m\u001b[0m\u001b[0;34m\u001b[0m\u001b[0m\n\u001b[1;32m      2\u001b[0m \u001b[0;34m\u001b[0m\u001b[0m\n\u001b[0;32m----> 3\u001b[0;31m \u001b[0mdata_distance\u001b[0m \u001b[0;34m=\u001b[0m \u001b[0mdata_distance\u001b[0m\u001b[0;34m.\u001b[0m\u001b[0mto_numpy\u001b[0m\u001b[0;34m(\u001b[0m\u001b[0;34m)\u001b[0m\u001b[0;34m\u001b[0m\u001b[0;34m\u001b[0m\u001b[0m\n\u001b[0m\u001b[1;32m      4\u001b[0m \u001b[0;34m\u001b[0m\u001b[0m\n\u001b[1;32m      5\u001b[0m \u001b[0mdata_distance\u001b[0m\u001b[0;34m\u001b[0m\u001b[0;34m\u001b[0m\u001b[0m\n",
            "\u001b[0;31mAttributeError\u001b[0m: 'list' object has no attribute 'to_numpy'"
          ]
        }
      ]
    },
    {
      "cell_type": "markdown",
      "metadata": {
        "id": "VgFh2YRys9Bc",
        "colab_type": "text"
      },
      "source": [
        "### 4. Find the smallest two values in the list of distances you created in the last step."
      ]
    },
    {
      "cell_type": "code",
      "metadata": {
        "id": "Gm1jfTKms9Bd",
        "colab_type": "code",
        "colab": {}
      },
      "source": [
        "data_distance_sorted = np.sort(data_distance)\n",
        "\n",
        "print(\"the smallest value: {}\\nthe second smallest value: {}\".format(data_distance_sorted[0], data_distance_sorted[1]))"
      ],
      "execution_count": 0,
      "outputs": []
    },
    {
      "cell_type": "markdown",
      "metadata": {
        "id": "939DcHDGyfNQ",
        "colab_type": "text"
      },
      "source": [
        ""
      ]
    },
    {
      "cell_type": "markdown",
      "metadata": {
        "id": "d9dalILus9Bg",
        "colab_type": "text"
      },
      "source": [
        "### 5. Find the _indexes_ of the smallest  values in the list of distances\n",
        "\n",
        "(Hint: This is going to be super useful if you want to know not just the smallest distance but also which item corresponded to the smallest distance, so you could get its target value.)"
      ]
    },
    {
      "cell_type": "code",
      "metadata": {
        "id": "gC_AA9zGs9Bh",
        "colab_type": "code",
        "outputId": "6f2827e2-2412-4d46-eeff-4ed44a0a2ef5",
        "colab": {
          "base_uri": "https://localhost:8080/",
          "height": 34
        }
      },
      "source": [
        "\"\"\"\n",
        "smallest = np.where(data_distance == data_distance_sorted[0])[0][0]\n",
        "sec_smallest = np.where(data_distance == data_distance_sorted[1])[0][0]\n",
        "\n",
        "smallest, sec_smallest\n",
        "\"\"\"\n",
        "np.argsort(data_distance)[0]"
      ],
      "execution_count": 10,
      "outputs": [
        {
          "output_type": "execute_result",
          "data": {
            "text/plain": [
              "3"
            ]
          },
          "metadata": {
            "tags": []
          },
          "execution_count": 10
        }
      ]
    },
    {
      "cell_type": "markdown",
      "metadata": {
        "id": "31XaPD8Ms9Bk",
        "colab_type": "text"
      },
      "source": [
        "### 6. Find the animal that occurs most frequently in the `animals` list:"
      ]
    },
    {
      "cell_type": "code",
      "metadata": {
        "id": "3L_4CuMHs9Bl",
        "colab_type": "code",
        "outputId": "002516e9-b191-4e10-e55b-a7aec701b0d1",
        "colab": {
          "base_uri": "https://localhost:8080/",
          "height": 34
        }
      },
      "source": [
        "\"\"\"\n",
        "maximum = 0\n",
        "max_index = 0\n",
        "for i in animals:\n",
        "  if animals.count(i) > max:\n",
        "    maximum = animals.count(i)\n",
        "maximum\n",
        "\"\"\"\n",
        "\n",
        "import collections\n",
        "\n",
        "collections.Counter(animals).most_common(1)\n",
        "# collections.Counter(animals).most_common(2)"
      ],
      "execution_count": 7,
      "outputs": [
        {
          "output_type": "execute_result",
          "data": {
            "text/plain": [
              "[('dog', 3), ('cat', 2)]"
            ]
          },
          "metadata": {
            "tags": []
          },
          "execution_count": 7
        }
      ]
    }
  ]
}